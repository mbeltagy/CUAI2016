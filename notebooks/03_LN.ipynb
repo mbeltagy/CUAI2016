{
 "cells": [
  {
   "cell_type": "markdown",
   "metadata": {},
   "source": [
    "Quiz:\n",
    "You are traveling to London and you are uncertain about whether to buy an\n",
    "umbrella. You have three friends who live there and they are truthful two thirds\n",
    "of the time. All three friends tell you that it is not going to rain today. You\n",
    "also know that the probability that it is going to rain on any given day in\n",
    "London is 20%. What is the probability that it is raining today?\n",
    "1. Do a simulation to find out\n",
    "2. Derive that probability from first principles "
   ]
  },
  {
   "cell_type": "code",
   "execution_count": 8,
   "metadata": {
    "collapsed": false
   },
   "outputs": [
    {
     "data": {
      "text/plain": [
       "0.007384"
      ]
     },
     "execution_count": 8,
     "metadata": {},
     "output_type": "execute_result"
    }
   ],
   "source": [
    "counter=0\n",
    "nIter=1000_000  # The number of iterations experiment for 1M days\n",
    "pR=0.2 # The probability is will rain on any given day\n",
    "pFS_R=1/27 #The probability that the all say it is sunny given it is raining\n",
    "for i=1:nIter\n",
    "    if rand()<pR # It is raining \n",
    "        counter+=(rand()<pFS_R)? 1:0 \n",
    "    end\n",
    "end\n",
    "counter/nIter"
   ]
  },
  {
   "cell_type": "markdown",
   "metadata": {},
   "source": [
    "Ooops! Looks like we calculated the conditional distribution "
   ]
  },
  {
   "cell_type": "code",
   "execution_count": 6,
   "metadata": {
    "collapsed": false
   },
   "outputs": [
    {
     "data": {
      "text/plain": [
       "0.007407407407407408"
      ]
     },
     "execution_count": 6,
     "metadata": {},
     "output_type": "execute_result"
    }
   ],
   "source": [
    "# From the scribbles we know that to be\n",
    "1/(27*5)"
   ]
  },
  {
   "cell_type": "markdown",
   "metadata": {},
   "source": [
    "Ouch! We are not thinking clearly enough!\n",
    "\n",
    "We should be trying to calculate the fraction of days where our three friends said it was Sunny, but it turned out rainy."
   ]
  },
  {
   "cell_type": "code",
   "execution_count": 1,
   "metadata": {
    "collapsed": false
   },
   "outputs": [
    {
     "data": {
      "text/plain": [
       "0.030061586784742265"
      ]
     },
     "execution_count": 1,
     "metadata": {},
     "output_type": "execute_result"
    }
   ],
   "source": [
    "counter=0 # Where it was Rainy when the three said it was sunny\n",
    "count_they_said_it_was_sunny=0\n",
    "\n",
    "nIter=1000_000  # The number of iterations experiment for 1M days\n",
    "pR=0.2 # The probability is will rain on any given day\n",
    "pFS_R=1/27 #The probability that the all say it is sunny given it is raining\n",
    "pFS_S=8/27\n",
    "for i=1:nIter\n",
    "    if rand()<pR # It is raining \n",
    "        if rand()<pFS_R\n",
    "            counter+=1 \n",
    "            count_they_said_it_was_sunny+=1\n",
    "        end\n",
    "    else # It is sunny \n",
    "        if rand()<pFS_S\n",
    "            count_they_said_it_was_sunny+=1\n",
    "        end\n",
    "    end\n",
    "end\n",
    "counter/count_they_said_it_was_sunny"
   ]
  },
  {
   "cell_type": "markdown",
   "metadata": {},
   "source": [
    "Perfect! We now confirmed our thinking"
   ]
  }
 ],
 "metadata": {
  "kernelspec": {
   "display_name": "Julia 0.5.0",
   "language": "julia",
   "name": "julia-0.5"
  },
  "language_info": {
   "file_extension": ".jl",
   "mimetype": "application/julia",
   "name": "julia",
   "version": "0.5.0"
  }
 },
 "nbformat": 4,
 "nbformat_minor": 1
}
