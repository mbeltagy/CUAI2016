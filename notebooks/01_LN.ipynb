{
 "cells": [
  {
   "cell_type": "markdown",
   "metadata": {},
   "source": [
    "Simulate the Board problem "
   ]
  },
  {
   "cell_type": "code",
   "execution_count": 2,
   "metadata": {
    "collapsed": false
   },
   "outputs": [
    {
     "data": {
      "text/plain": [
       "2"
      ]
     },
     "execution_count": 2,
     "metadata": {},
     "output_type": "execute_result"
    }
   ],
   "source": [
    "# To get a dice roll\n",
    "rand(1:6)"
   ]
  },
  {
   "cell_type": "markdown",
   "metadata": {},
   "source": [
    "We do a Monte Carlo simulation "
   ]
  },
  {
   "cell_type": "code",
   "execution_count": 3,
   "metadata": {
    "collapsed": false
   },
   "outputs": [
    {
     "data": {
      "text/plain": [
       "0.0554984"
      ]
     },
     "execution_count": 3,
     "metadata": {},
     "output_type": "execute_result"
    }
   ],
   "source": [
    "n_exp=10_000_000 # 10 Million experments \n",
    "num_success=0\n",
    "for i=1:n_exp # Simulation loop\n",
    "    r=rand(1:6)\n",
    "    r+=(r==3)? rand(1:6):0\n",
    "    num_success+= (r>=8)? 1:0\n",
    "end\n",
    "prob=num_success/n_exp # I expect this to be close to 1/18"
   ]
  },
  {
   "cell_type": "markdown",
   "metadata": {},
   "source": [
    "For next time you need to:\n",
    "1. Implement and verfiy all chapter 2 code in Julia\n",
    "2. Solve all exercie problems in chapter 2\n",
    "3. Send answer to 1 and 2 in a notebook at mohammed@computer.org, subject \"[CUAI] Bayes Assn 1.\" by next Sunday (midnight). "
   ]
  }
 ],
 "metadata": {
  "kernelspec": {
   "display_name": "Julia 0.5.1-pre",
   "language": "julia",
   "name": "julia-0.5"
  },
  "language_info": {
   "file_extension": ".jl",
   "mimetype": "application/julia",
   "name": "julia",
   "version": "0.5.1"
  }
 },
 "nbformat": 4,
 "nbformat_minor": 1
}
