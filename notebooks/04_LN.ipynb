{
 "cells": [
  {
   "cell_type": "markdown",
   "metadata": {},
   "source": [
    "Solving question 5 in chapter 2. \n",
    "We got the answer in closed form as $$2pq(1-p)$$"
   ]
  },
  {
   "cell_type": "code",
   "execution_count": 27,
   "metadata": {
    "collapsed": false
   },
   "outputs": [
    {
     "name": "stderr",
     "output_type": "stream",
     "text": [
      "WARNING: Method definition aloha_mgen(Any) in module Main at In[25]:4 overwritten at In[27]:4.\n"
     ]
    },
    {
     "data": {
      "text/plain": [
       "aloha_mgen (generic function with 1 method)"
      ]
     },
     "execution_count": 27,
     "metadata": {},
     "output_type": "execute_result"
    }
   ],
   "source": [
    "p=0.4 #Sending \n",
    "q=0.8 #Generating \n",
    "function aloha_mgen(nreps)\n",
    "    counter=0\n",
    "    for i=1:nreps\n",
    "        X=2 #Both senders are active in the begining \n",
    "        for t=1:2 #We are only intrested in two epochs\n",
    "            for g=1:2-X #Generating the a new message on inactive nodes \n",
    "                if (rand()<q)\n",
    "                    X+=1\n",
    "                    (t==2) && (counter+=1)\n",
    "                end\n",
    "            end\n",
    "            sent_messages=0\n",
    "            for s=1:X #Sending new messages after generation is complete \n",
    "                (rand()<p) && (sent_messages+=1)\n",
    "            end\n",
    "            (sent_messages<2) && (X-=sent_messages)\n",
    "        end\n",
    "    end\n",
    "    counter/nreps\n",
    "end"
   ]
  },
  {
   "cell_type": "code",
   "execution_count": 30,
   "metadata": {
    "collapsed": false
   },
   "outputs": [
    {
     "data": {
      "text/plain": [
       "0.384325"
      ]
     },
     "execution_count": 30,
     "metadata": {},
     "output_type": "execute_result"
    }
   ],
   "source": [
    "aloha_mgen(1000_000)"
   ]
  },
  {
   "cell_type": "code",
   "execution_count": 8,
   "metadata": {
    "collapsed": false
   },
   "outputs": [
    {
     "data": {
      "text/plain": [
       "0.38400000000000006"
      ]
     },
     "execution_count": 8,
     "metadata": {},
     "output_type": "execute_result"
    }
   ],
   "source": [
    "2*p*q*(1-p)"
   ]
  },
  {
   "cell_type": "markdown",
   "metadata": {},
   "source": [
    "Perfect!\n",
    "\n",
    "Now we move to question 6"
   ]
  },
  {
   "cell_type": "code",
   "execution_count": 38,
   "metadata": {
    "collapsed": false
   },
   "outputs": [
    {
     "data": {
      "text/plain": [
       "lottery (generic function with 1 method)"
      ]
     },
     "execution_count": 38,
     "metadata": {},
     "output_type": "execute_result"
    }
   ],
   "source": [
    "function lottery(nreps)\n",
    "    counter1,counter2=0,0\n",
    "    for i=1:nreps\n",
    "        tickets=shuffle(1:60) \n",
    "        # I will assumed that tickets 1 to 5 are the winning tickets\n",
    "        mytickets=tickets[1:3]\n",
    "        wining_tickets=intersect(mytickets,1:5)\n",
    "        (length(wining_tickets)>0) && (counter1+=1)\n",
    "        (length(wining_tickets)==1) && (counter2+=1)\n",
    "    end\n",
    "    counter1/nreps,counter2/nreps\n",
    "end"
   ]
  },
  {
   "cell_type": "code",
   "execution_count": 41,
   "metadata": {
    "collapsed": false
   },
   "outputs": [
    {
     "data": {
      "text/plain": [
       "(0.232558,0.216246)"
      ]
     },
     "execution_count": 41,
     "metadata": {},
     "output_type": "execute_result"
    }
   ],
   "source": [
    "lottery(1000_000)"
   ]
  },
  {
   "cell_type": "markdown",
   "metadata": {},
   "source": [
    "The number of ways I can get three tickets $$\\binom{60}{3}$$. \n",
    "\n",
    "The number of ways I can one winning ticket $$\\binom{5}{1} \\binom{55}{2}$$\n",
    "\n",
    "Hence the probabilty of getting just one is\n",
    "$$\\frac{\\binom{5}{1} \\binom{55}{2}}{\\binom{60}{3}}$$."
   ]
  },
  {
   "cell_type": "code",
   "execution_count": 40,
   "metadata": {
    "collapsed": false
   },
   "outputs": [
    {
     "data": {
      "text/plain": [
       "0.21697837521917007"
      ]
     },
     "execution_count": 40,
     "metadata": {},
     "output_type": "execute_result"
    }
   ],
   "source": [
    "binomial(5,1)binomial(55,2)/binomial(60,3)"
   ]
  },
  {
   "cell_type": "markdown",
   "metadata": {},
   "source": [
    "The probablity of gettting one more is the same as the probablity of geting 1-prob of getting zero\n",
    "$$1-\\frac{\\binom{5}{0} \\binom{55}{3}}{\\binom{60}{3}}$$."
   ]
  },
  {
   "cell_type": "code",
   "execution_count": 42,
   "metadata": {
    "collapsed": false
   },
   "outputs": [
    {
     "data": {
      "text/plain": [
       "0.23334307422559908"
      ]
     },
     "execution_count": 42,
     "metadata": {},
     "output_type": "execute_result"
    }
   ],
   "source": [
    "1-binomial(5,0)binomial(55,3)/binomial(60,3)"
   ]
  },
  {
   "cell_type": "markdown",
   "metadata": {},
   "source": [
    "Q9"
   ]
  },
  {
   "cell_type": "code",
   "execution_count": 83,
   "metadata": {
    "collapsed": false
   },
   "outputs": [
    {
     "name": "stderr",
     "output_type": "stream",
     "text": [
      "WARNING: Method definition elevator(Any) in module Main at In[80]:2 overwritten at In[83]:2.\n"
     ]
    },
    {
     "data": {
      "text/plain": [
       "elevator (generic function with 1 method)"
      ]
     },
     "execution_count": 83,
     "metadata": {},
     "output_type": "execute_result"
    }
   ],
   "source": [
    "function elevator(nreps)\n",
    "    mike=rand(1:6)\n",
    "    ike=rand(1:6)\n",
    "    counter=0\n",
    "    for i=1:nreps\n",
    "        destn=rand(2:6)\n",
    "        if ike<=mike\n",
    "            ike=1\n",
    "        else\n",
    "            mike=1\n",
    "        end\n",
    "        (mike==3) && (counter+=1)\n",
    "        #after the summons\n",
    "        if ike==1\n",
    "            ike=destn\n",
    "        else\n",
    "            mike=destn\n",
    "        end\n",
    "    end \n",
    "    counter/nreps\n",
    "end"
   ]
  },
  {
   "cell_type": "code",
   "execution_count": 87,
   "metadata": {
    "collapsed": false
   },
   "outputs": [
    {
     "data": {
      "text/plain": [
       "0.0"
      ]
     },
     "execution_count": 87,
     "metadata": {},
     "output_type": "execute_result"
    }
   ],
   "source": [
    "elevator(100_000)"
   ]
  },
  {
   "cell_type": "code",
   "execution_count": 85,
   "metadata": {
    "collapsed": false
   },
   "outputs": [
    {
     "data": {
      "text/plain": [
       "elevator2 (generic function with 1 method)"
      ]
     },
     "execution_count": 85,
     "metadata": {},
     "output_type": "execute_result"
    }
   ],
   "source": [
    "function elevator2(nreps)\n",
    "    counter=0\n",
    "    for i=1:nreps\n",
    "        mike=rand(2:6)\n",
    "        ike=rand(2:6)\n",
    "        destn=rand(2:6)\n",
    "        if ike<=mike\n",
    "            ike=1\n",
    "        else\n",
    "            mike=1\n",
    "        end\n",
    "        (mike==3) && (counter+=1)\n",
    "    end \n",
    "    counter/nreps\n",
    "end"
   ]
  },
  {
   "cell_type": "code",
   "execution_count": 86,
   "metadata": {
    "collapsed": false
   },
   "outputs": [
    {
     "data": {
      "text/plain": [
       "0.0754"
      ]
     },
     "execution_count": 86,
     "metadata": {},
     "output_type": "execute_result"
    }
   ],
   "source": [
    "elevator2(10000)"
   ]
  },
  {
   "cell_type": "code",
   "execution_count": null,
   "metadata": {
    "collapsed": true
   },
   "outputs": [],
   "source": []
  }
 ],
 "metadata": {
  "kernelspec": {
   "display_name": "Julia 0.5.0",
   "language": "julia",
   "name": "julia-0.5"
  },
  "language_info": {
   "file_extension": ".jl",
   "mimetype": "application/julia",
   "name": "julia",
   "version": "0.5.0"
  }
 },
 "nbformat": 4,
 "nbformat_minor": 1
}
