{
 "cells": [
  {
   "cell_type": "markdown",
   "metadata": {},
   "source": [
    "# The Monty Hall problem \n",
    "\n",
    "*You have three doors. There is a prize hidden behind one of them. \n",
    "First you pick one door of the three. Then the game host opens one of the two other doors. The door he opens has no prize behind it. You are given a choice to stick to your original door selection, or choose the other door. Which door would you choose? What is probablity if winning the prize given your choice?*\n"
   ]
  },
  {
   "cell_type": "markdown",
   "metadata": {},
   "source": [
    "First I can try to similuate what would happen I followed the stick-to-my-first-choice strategy "
   ]
  },
  {
   "cell_type": "code",
   "execution_count": 20,
   "metadata": {
    "collapsed": false
   },
   "outputs": [
    {
     "name": "stderr",
     "output_type": "stream",
     "text": [
      "WARNING: Method definition stick_to_first_choice(Any) in module Main at In[17]:2 overwritten at In[20]:2.\n"
     ]
    },
    {
     "data": {
      "text/plain": [
       "stick_to_first_choice (generic function with 1 method)"
      ]
     },
     "execution_count": 20,
     "metadata": {},
     "output_type": "execute_result"
    }
   ],
   "source": [
    "function stick_to_first_choice(nExp) # We provide the number of experiments\n",
    "    num_of_wins=0\n",
    "    for i=1:nExp\n",
    "        door_with_prize=rand(1:3)\n",
    "        my_first_choice=rand(1:3)\n",
    "        #(my_first_choice==door_with_prize) && (num_of_wins+=1)\n",
    "        num_of_wins+= (my_first_choice==door_with_prize) ? 1: 0\n",
    "    end\n",
    "    num_of_wins/nExp\n",
    "end"
   ]
  },
  {
   "cell_type": "code",
   "execution_count": 36,
   "metadata": {
    "collapsed": false
   },
   "outputs": [
    {
     "data": {
      "text/plain": [
       "switch_doors (generic function with 1 method)"
      ]
     },
     "execution_count": 36,
     "metadata": {},
     "output_type": "execute_result"
    }
   ],
   "source": [
    "function switch_doors(nExp) # We provide the number of experiments\n",
    "    num_of_wins=0\n",
    "    for i=1:nExp\n",
    "        door_with_prize=rand(1:3)\n",
    "        my_first_choice=rand(1:3)\n",
    "        host_choice=rand(setdiff([1,2,3],[door_with_prize,my_first_choice]))\n",
    "        my_switch=setdiff([1,2,3],[my_first_choice,host_choice])[1]\n",
    "        #(my_first_choice==door_with_prize) && (num_of_wins+=1)\n",
    "        num_of_wins+= (my_switch==door_with_prize) ? 1: 0\n",
    "    end\n",
    "    num_of_wins/nExp\n",
    "end"
   ]
  },
  {
   "cell_type": "code",
   "execution_count": 38,
   "metadata": {
    "collapsed": false
   },
   "outputs": [
    {
     "data": {
      "text/plain": [
       "0.332988"
      ]
     },
     "execution_count": 38,
     "metadata": {},
     "output_type": "execute_result"
    }
   ],
   "source": [
    "stick_to_first_choice(1000_000)"
   ]
  },
  {
   "cell_type": "code",
   "execution_count": 37,
   "metadata": {
    "collapsed": false
   },
   "outputs": [
    {
     "data": {
      "text/plain": [
       "0.665117"
      ]
     },
     "execution_count": 37,
     "metadata": {},
     "output_type": "execute_result"
    }
   ],
   "source": [
    "switch_doors(1000_000)"
   ]
  },
  {
   "cell_type": "markdown",
   "metadata": {},
   "source": [
    "We conclude that switching doors is better"
   ]
  },
  {
   "cell_type": "markdown",
   "metadata": {},
   "source": [
    "# Q4 "
   ]
  },
  {
   "cell_type": "code",
   "execution_count": 46,
   "metadata": {
    "collapsed": false
   },
   "outputs": [
    {
     "data": {
      "text/plain": [
       "extacty_2_bad (generic function with 1 method)"
      ]
     },
     "execution_count": 46,
     "metadata": {},
     "output_type": "execute_result"
    }
   ],
   "source": [
    "function extacty_2_bad(nIter)\n",
    "    success=0\n",
    "    for i=1:nIter\n",
    "        num_bad=0\n",
    "        for j=1:5\n",
    "            num_bad+=(rand()<0.2)? 1:0 \n",
    "        end\n",
    "        if num_bad==2\n",
    "            success+=1\n",
    "        end\n",
    "    end\n",
    "    success/nIter\n",
    "end"
   ]
  },
  {
   "cell_type": "code",
   "execution_count": 48,
   "metadata": {
    "collapsed": false
   },
   "outputs": [
    {
     "data": {
      "text/plain": [
       "0.20435"
      ]
     },
     "execution_count": 48,
     "metadata": {},
     "output_type": "execute_result"
    }
   ],
   "source": [
    "extacty_2_bad(1000_000)"
   ]
  },
  {
   "cell_type": "code",
   "execution_count": 49,
   "metadata": {
    "collapsed": false
   },
   "outputs": [
    {
     "data": {
      "text/plain": [
       "0.2048000000000001"
      ]
     },
     "execution_count": 49,
     "metadata": {},
     "output_type": "execute_result"
    }
   ],
   "source": [
    "binomial(5,2)*0.2^2*(1-0.2)^3"
   ]
  },
  {
   "cell_type": "code",
   "execution_count": null,
   "metadata": {
    "collapsed": true
   },
   "outputs": [],
   "source": []
  }
 ],
 "metadata": {
  "kernelspec": {
   "display_name": "Julia 0.5.0",
   "language": "julia",
   "name": "julia-0.5"
  },
  "language_info": {
   "file_extension": ".jl",
   "mimetype": "application/julia",
   "name": "julia",
   "version": "0.5.0"
  }
 },
 "nbformat": 4,
 "nbformat_minor": 1
}
